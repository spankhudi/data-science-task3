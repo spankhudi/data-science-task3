{
 "cells": [
  {
   "cell_type": "code",
   "execution_count": 49,
   "id": "92d9aed3-5f4b-41bc-b44a-836370345ff8",
   "metadata": {},
   "outputs": [],
   "source": [
    "import pandas as pd\n",
    "import numpy as np\n",
    "import scipy.stats as stats\n",
    "from statsmodels.stats.proportion import proportions_ztest"
   ]
  },
  {
   "cell_type": "code",
   "execution_count": 64,
   "id": "f850e994-d05b-4990-8ed6-2cfb0f9e777a",
   "metadata": {},
   "outputs": [],
   "source": [
    "# Step 1: Load the CSV data"
   ]
  },
  {
   "cell_type": "code",
   "execution_count": 9,
   "id": "b06d8430-a192-4a1d-b778-73b03af4707c",
   "metadata": {},
   "outputs": [
    {
     "name": "stdout",
     "output_type": "stream",
     "text": [
      "Dataset 'ab_test_data.csv' has been created!\n"
     ]
    }
   ],
   "source": [
    "import pandas as pd\n",
    "import numpy as np\n",
    "\n",
    "# Set random seed for reproducibility\n",
    "np.random.seed(42)\n",
    "\n",
    "# Parameters\n",
    "num_users = 1000  # total number of users\n",
    "conversion_rate_A = 0.2  # conversion rate for group A\n",
    "conversion_rate_B = 0.25  # conversion rate for group B\n",
    "\n",
    "# Generate user IDs\n",
    "user_ids = np.arange(1, num_users + 1)\n",
    "\n",
    "# Assign groups A or B randomly\n",
    "groups = np.random.choice(['A', 'B'], size=num_users)\n",
    "\n",
    "# Simulate conversions (1 for conversion, 0 for no conversion)\n",
    "conversions = np.where(groups == 'A', \n",
    "                       np.random.binomial(1, conversion_rate_A, size=num_users), \n",
    "                       np.random.binomial(1, conversion_rate_B, size=num_users))\n",
    "\n",
    "# Create the DataFrame\n",
    "df = pd.DataFrame({\n",
    "    'user_id': user_ids,\n",
    "    'group': groups,\n",
    "    'conversion': conversions\n",
    "})\n",
    "\n",
    "# Save it to a CSV file\n",
    "df.to_csv('ab_test_data.csv', index=False)\n",
    "\n",
    "print(\"Dataset 'ab_test_data.csv' has been created!\")\n"
   ]
  },
  {
   "cell_type": "code",
   "execution_count": 11,
   "id": "9ee8d5f3-4060-4447-b436-b7111dfeb7ae",
   "metadata": {},
   "outputs": [],
   "source": [
    "df = pd.read_csv('ab_test_data.csv')"
   ]
  },
  {
   "cell_type": "code",
   "execution_count": 13,
   "id": "d0ad681c-c21a-43c5-b574-150bc595e43b",
   "metadata": {},
   "outputs": [],
   "source": [
    "# Step 2: Calculate conversion rates for both groups"
   ]
  },
  {
   "cell_type": "code",
   "execution_count": 29,
   "id": "767bb0f2-5b0a-450f-9651-e9cfd670958a",
   "metadata": {},
   "outputs": [],
   "source": [
    "# Group A (Control)\n",
    "group_A = df[df['group'] == 'A']\n",
    "conv_A = group_A['conversion'].sum()  # Total conversions for Group A\n",
    "n_A = group_A.shape[0]  # Total number of users in Group A\n",
    "cr_A = conv_A / n_A  # Conversion rate for Group A"
   ]
  },
  {
   "cell_type": "code",
   "execution_count": 31,
   "id": "dff0c6fa-e8ae-4136-bd25-1b5b995a05b3",
   "metadata": {},
   "outputs": [],
   "source": [
    "# Group B (Treatment)\n",
    "group_B = df[df['group'] == 'B']\n",
    "conv_B = group_B['conversion'].sum()  # Total conversions for Group B\n",
    "n_B = group_B.shape[0]  # Total number of users in Group B\n",
    "cr_B = conv_B / n_B  # Conversion rate for Group B"
   ]
  },
  {
   "cell_type": "code",
   "execution_count": 33,
   "id": "e8ffca1a-4353-443e-a37a-588aa5c47c93",
   "metadata": {},
   "outputs": [
    {
     "name": "stdout",
     "output_type": "stream",
     "text": [
      "Conversion Rate of Group A: 19.59%\n",
      "Conversion Rate of Group B: 24.12%\n"
     ]
    }
   ],
   "source": [
    "# Output the conversion rates\n",
    "print(f\"Conversion Rate of Group A: {cr_A:.2%}\")\n",
    "print(f\"Conversion Rate of Group B: {cr_B:.2%}\")"
   ]
  },
  {
   "cell_type": "code",
   "execution_count": 55,
   "id": "15735773-2dad-4f20-bafb-98edf734ecc9",
   "metadata": {},
   "outputs": [],
   "source": [
    "# Step 3: Perform a two-proportion z-test"
   ]
  },
  {
   "cell_type": "code",
   "execution_count": 53,
   "id": "bbc25dba-8ed5-4951-adec-b45a0c6236b5",
   "metadata": {},
   "outputs": [
    {
     "name": "stdout",
     "output_type": "stream",
     "text": [
      "\n",
      "Z-statistic: -1.7299\n",
      "P-value: 0.0836\n"
     ]
    }
   ],
   "source": [
    "from statsmodels.stats.proportion import proportions_ztest\n",
    "\n",
    "# Your data\n",
    "successes = np.array([conv_A, conv_B])  # number of conversions\n",
    "samples = np.array([n_A, n_B])          # total users in each group\n",
    "\n",
    "# Perform Z-test\n",
    "z_stat, p_val = proportions_ztest(successes, samples)\n",
    "\n",
    "# Output results\n",
    "print(f\"\\nZ-statistic: {z_stat:.4f}\")\n",
    "print(f\"P-value: {p_val:.4f}\")\n"
   ]
  },
  {
   "cell_type": "code",
   "execution_count": 57,
   "id": "bef1c92c-bd71-4b36-8156-8108eec6c4c0",
   "metadata": {},
   "outputs": [],
   "source": [
    "# Step 4: Interpret the results"
   ]
  },
  {
   "cell_type": "code",
   "execution_count": 61,
   "id": "0099928f-dc7c-4538-b562-2459f1c7c35c",
   "metadata": {},
   "outputs": [
    {
     "name": "stdout",
     "output_type": "stream",
     "text": [
      "\n",
      " No significant difference. Keep using Version A.\n"
     ]
    }
   ],
   "source": [
    "alpha = 0.05\n",
    "if p_val < alpha:\n",
    "    print(\"\\n The difference is statistically significant. Version B performs better.\")\n",
    "else:\n",
    "    print(\"\\n No significant difference. Keep using Version A.\")"
   ]
  },
  {
   "cell_type": "code",
   "execution_count": null,
   "id": "bf3df3b1-8ae7-4c6f-9530-c75a06bf9e9c",
   "metadata": {},
   "outputs": [],
   "source": []
  }
 ],
 "metadata": {
  "kernelspec": {
   "display_name": "Python 3 (ipykernel)",
   "language": "python",
   "name": "python3"
  },
  "language_info": {
   "codemirror_mode": {
    "name": "ipython",
    "version": 3
   },
   "file_extension": ".py",
   "mimetype": "text/x-python",
   "name": "python",
   "nbconvert_exporter": "python",
   "pygments_lexer": "ipython3",
   "version": "3.12.4"
  }
 },
 "nbformat": 4,
 "nbformat_minor": 5
}
